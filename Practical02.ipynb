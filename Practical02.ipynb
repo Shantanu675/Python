{
  "nbformat": 4,
  "nbformat_minor": 0,
  "metadata": {
    "colab": {
      "provenance": [],
      "authorship_tag": "ABX9TyMLil0fSLkuF5h3GvoVCVcl",
      "include_colab_link": true
    },
    "kernelspec": {
      "name": "python3",
      "display_name": "Python 3"
    },
    "language_info": {
      "name": "python"
    }
  },
  "cells": [
    {
      "cell_type": "markdown",
      "metadata": {
        "id": "view-in-github",
        "colab_type": "text"
      },
      "source": [
        "<a href=\"https://colab.research.google.com/github/Shantanu675/Python/blob/main/Practical02.ipynb\" target=\"_parent\"><img src=\"https://colab.research.google.com/assets/colab-badge.svg\" alt=\"Open In Colab\"/></a>"
      ]
    },
    {
      "cell_type": "code",
      "execution_count": null,
      "metadata": {
        "colab": {
          "base_uri": "https://localhost:8080/"
        },
        "id": "WI5yFybZDr_i",
        "outputId": "6ab78d82-2f5e-4d08-e3c3-2bb45b2d14d8"
      },
      "outputs": [
        {
          "output_type": "stream",
          "name": "stdout",
          "text": [
            "42\n",
            "3.1415\n",
            "(2+3j)\n",
            "Hello, Python!\n",
            "[1, 'two', 3.0]\n",
            "(True, None, 99)\n",
            "range(0, 5)\n",
            "{'name': 'Ada', 'age': 30}\n",
            "{1, 2, 3}\n",
            "True\n"
          ]
        }
      ],
      "source": [
        "integer_val = 42                  # int\n",
        "float_val = 3.1415                # float\n",
        "complex_val = 2 + 3j              # complex\n",
        "string_val = \"Hello, Python!\"     # str\n",
        "list_val = [1, \"two\", 3.0]        # list\n",
        "tuple_val = (True, None, 99)      # tuple\n",
        "range_val = range(5)              # range\n",
        "dict_val = {\"name\": \"Ada\", \"age\": 30}  # dict\n",
        "set_val = {1, 2, 3}               # set\n",
        "bool_val = True                  # bool\n",
        "\n",
        "print(integer_val)\n",
        "print(float_val)\n",
        "print(complex_val)\n",
        "print(string_val)\n",
        "print(list_val)\n",
        "print(tuple_val)\n",
        "print(range_val)\n",
        "print(dict_val)\n",
        "print(set_val)\n",
        "print(bool_val)"
      ]
    },
    {
      "cell_type": "code",
      "source": [
        "str1 = \"Python\"\n",
        "str2 = \"Language\"\n",
        "\n",
        "# Concatenation\n",
        "print(str1 + str2)\n",
        "print(str1, str2)"
      ],
      "metadata": {
        "colab": {
          "base_uri": "https://localhost:8080/"
        },
        "id": "wfSGGMlfMixR",
        "outputId": "bbeb1c43-bd7e-42f7-caae-c1559c58594d"
      },
      "execution_count": null,
      "outputs": [
        {
          "output_type": "stream",
          "name": "stdout",
          "text": [
            "PythonLanguage\n",
            "Python Language\n"
          ]
        }
      ]
    },
    {
      "cell_type": "code",
      "source": [
        "# String Sclicing\n",
        "\n",
        "text = \"ILikePythonCoding\"\n",
        "print(text[0:6])        # 0 include , 6 exclude\n",
        "print(text[7:])         # from index 7 to end\n",
        "print(text[:6])         # from start to index 6\n",
        "print(text[-7:])        # indexing starts from last\n",
        "print(text[::2])        # jump of 2 chars\n"
      ],
      "metadata": {
        "colab": {
          "base_uri": "https://localhost:8080/"
        },
        "id": "DquGi8AHNQ44",
        "outputId": "686dfaea-dbe8-4ddd-dc8e-6abb624c553c"
      },
      "execution_count": null,
      "outputs": [
        {
          "output_type": "stream",
          "name": "stdout",
          "text": [
            "ILikeP\n",
            "thonCoding\n",
            "ILikeP\n",
            "nCoding\n",
            "Iieyhnoig\n"
          ]
        }
      ]
    },
    {
      "cell_type": "code",
      "source": [
        "# Built-in String Methods\n",
        "str = \"Python\"\n",
        "\n",
        "print(len(str))\n",
        "print(str.lower())\n",
        "print(str.upper())\n",
        "print(str.capitalize())\n",
        "print(str.find('e'))\n",
        "print(str.title())\n"
      ],
      "metadata": {
        "colab": {
          "base_uri": "https://localhost:8080/"
        },
        "id": "oT-Xh0oJOTgo",
        "outputId": "6ff2e19e-6c80-48a4-e36c-de7726fb8911"
      },
      "execution_count": null,
      "outputs": [
        {
          "output_type": "stream",
          "name": "stdout",
          "text": [
            "6\n",
            "python\n",
            "PYTHON\n",
            "Python\n",
            "-1\n",
            "Python\n"
          ]
        }
      ]
    }
  ]
}