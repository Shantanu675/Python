{
  "nbformat": 4,
  "nbformat_minor": 0,
  "metadata": {
    "colab": {
      "provenance": [],
      "include_colab_link": true
    },
    "kernelspec": {
      "name": "python3",
      "display_name": "Python 3"
    },
    "language_info": {
      "name": "python"
    }
  },
  "cells": [
    {
      "cell_type": "markdown",
      "metadata": {
        "id": "view-in-github",
        "colab_type": "text"
      },
      "source": [
        "<a href=\"https://colab.research.google.com/github/Shantanu675/Python/blob/main/practical01.ipynb\" target=\"_parent\"><img src=\"https://colab.research.google.com/assets/colab-badge.svg\" alt=\"Open In Colab\"/></a>"
      ]
    },
    {
      "cell_type": "code",
      "execution_count": null,
      "metadata": {
        "colab": {
          "base_uri": "https://localhost:8080/"
        },
        "id": "67bqaw4b1mXi",
        "outputId": "5d9506ca-d75a-4d8f-8c6c-bd6787c06dda"
      },
      "outputs": [
        {
          "output_type": "stream",
          "name": "stdout",
          "text": [
            "Hello World!\n"
          ]
        }
      ],
      "source": [
        "print(\"Hello World!\")"
      ]
    },
    {
      "cell_type": "code",
      "source": [
        "a = 15\n",
        "b = 23\n",
        "if(a > b):\n",
        "  print(\"a is larger than b\")\n",
        "else:\n",
        "  print(\"b is larger than c\")"
      ],
      "metadata": {
        "colab": {
          "base_uri": "https://localhost:8080/"
        },
        "id": "ueSQ__LM1w1v",
        "outputId": "35201707-3764-438f-e2a5-c5af24a403e9"
      },
      "execution_count": null,
      "outputs": [
        {
          "output_type": "stream",
          "name": "stdout",
          "text": [
            "b is larger than c\n"
          ]
        }
      ]
    },
    {
      "cell_type": "code",
      "source": [
        "celsius = int(input(\"Enter celsius = \"))\n",
        "fahrenheit = ((celsius * 9)/5) + 32\n",
        "print(\"Fahrenheit =\", fahrenheit)"
      ],
      "metadata": {
        "colab": {
          "base_uri": "https://localhost:8080/"
        },
        "id": "ZdZoTT8q3Oer",
        "outputId": "4bb8a21c-a055-42be-d936-27987aa30763"
      },
      "execution_count": null,
      "outputs": [
        {
          "output_type": "stream",
          "name": "stdout",
          "text": [
            "Enter celsius = 37\n",
            "Fahrenheit = 98.6\n"
          ]
        }
      ]
    },
    {
      "cell_type": "code",
      "source": [
        "n = int(input(\"Enter Number = \"))\n",
        "i = 1\n",
        "ans = 1\n",
        "\n",
        "while (i <= n):\n",
        "  ans *= i\n",
        "  i = i + 1\n",
        "\n",
        "print(\"Factorial =\", ans)\n"
      ],
      "metadata": {
        "colab": {
          "base_uri": "https://localhost:8080/"
        },
        "id": "fZxYT0IJ3TYB",
        "outputId": "64bb1d3c-0209-4235-95ef-818fa0051f6a"
      },
      "execution_count": null,
      "outputs": [
        {
          "output_type": "stream",
          "name": "stdout",
          "text": [
            "Enter Number = 5\n",
            "Factorial = 120\n"
          ]
        }
      ]
    },
    {
      "cell_type": "code",
      "source": [
        "a = 34\n",
        "b = 12\n",
        "\n",
        "print(\"Addition :\", a+b)\n",
        "print(\"Substraction :\", a-b)\n",
        "print(\"Multiplication :\", a*b)\n",
        "print(\"Division :\", a/b)\n",
        "print(\"Remainder :\", a%b)"
      ],
      "metadata": {
        "colab": {
          "base_uri": "https://localhost:8080/"
        },
        "id": "cmx4rQdW46c9",
        "outputId": "d346cac0-1502-47cd-8a4c-e2ea35e1356d"
      },
      "execution_count": null,
      "outputs": [
        {
          "output_type": "stream",
          "name": "stdout",
          "text": [
            "Addition : 46\n",
            "Substraction : 22\n",
            "Multiplication : 408\n",
            "Division : 2.8333333333333335\n",
            "Remainder : 10\n"
          ]
        }
      ]
    },
    {
      "cell_type": "code",
      "source": [
        "# Conditional Logic\n",
        "num = int(input(\"Enter number = \"))\n",
        "\n",
        "if(num > 0):\n",
        "  print(\"Number is positive\")\n",
        "elif(num < 0):\n",
        "  print(\"Number is negative\")\n",
        "else:\n",
        "  print(\"Number is zero\")"
      ],
      "metadata": {
        "colab": {
          "base_uri": "https://localhost:8080/"
        },
        "id": "V4QU0Rwm5X6P",
        "outputId": "1b855e70-a2e7-4e43-fbd1-da87864cc39d"
      },
      "execution_count": null,
      "outputs": [
        {
          "output_type": "stream",
          "name": "stdout",
          "text": [
            "Enter number = -23\n",
            "Number is negative\n"
          ]
        }
      ]
    },
    {
      "cell_type": "code",
      "source": [
        "str = input(\"Enter String = \")\n",
        "reversed_str = str[::-1]\n",
        "print(reversed_str)"
      ],
      "metadata": {
        "colab": {
          "base_uri": "https://localhost:8080/"
        },
        "id": "DPi5F1h07kpH",
        "outputId": "b8f36de2-d6a8-458e-8584-89f37cc0418e"
      },
      "execution_count": null,
      "outputs": [
        {
          "output_type": "stream",
          "name": "stdout",
          "text": [
            "Enter String = Shantanu Danej\n",
            "jenaD unatnahS\n"
          ]
        }
      ]
    },
    {
      "cell_type": "code",
      "source": [
        "num = int(input(\"Enter number : \"))\n",
        "i = 2\n",
        "fact = 0\n",
        "\n",
        "while(i < num):\n",
        "  if(num % i == 0):\n",
        "    fact = fact + 1\n",
        "    i = i + 1\n",
        "  else:\n",
        "    i = i + 1\n",
        "\n",
        "if(fact == 0):\n",
        "  print(num, \"is prime\")\n",
        "else:\n",
        "  print(num, \"is NOT prime\")"
      ],
      "metadata": {
        "colab": {
          "base_uri": "https://localhost:8080/"
        },
        "id": "KJKHSRFl8BHQ",
        "outputId": "e1caf03b-3bf4-4b64-81db-9e9025ba3309"
      },
      "execution_count": null,
      "outputs": [
        {
          "output_type": "stream",
          "name": "stdout",
          "text": [
            "Enter number : 15\n",
            "15 is NOT prime\n"
          ]
        }
      ]
    },
    {
      "cell_type": "code",
      "source": [
        "def is_palindrome(n):\n",
        "    original = n\n",
        "    reversed_num = 0\n",
        "    while n > 0:\n",
        "        digit = n % 10\n",
        "        reversed_num = reversed_num * 10 + digit\n",
        "        n = n // 10\n",
        "    return original == reversed_num\n",
        "\n",
        "num = int(input(\"Enter number = \"))\n",
        "print(is_palindrome(num))"
      ],
      "metadata": {
        "colab": {
          "base_uri": "https://localhost:8080/"
        },
        "id": "fFRN8AjU-Kze",
        "outputId": "5fa0710e-b2a2-4234-c930-3eae06201321"
      },
      "execution_count": null,
      "outputs": [
        {
          "output_type": "stream",
          "name": "stdout",
          "text": [
            "Enter number = 123\n",
            "False\n"
          ]
        }
      ]
    },
    {
      "cell_type": "code",
      "source": [
        "list = [\"python\", \"java\", \"c++\"]\n",
        "print(list)\n",
        "\n",
        "dict = {\"name\" : \"Shantanu\", \"reg.No.\" : \"2023BIT051\"}\n",
        "print(dict)"
      ],
      "metadata": {
        "colab": {
          "base_uri": "https://localhost:8080/"
        },
        "id": "WXpmQaY-_GL-",
        "outputId": "e9fe2b2a-ba06-4a14-dc5c-52f92c435dd4"
      },
      "execution_count": null,
      "outputs": [
        {
          "output_type": "stream",
          "name": "stdout",
          "text": [
            "['python', 'java', 'c++']\n",
            "{'name': 'Shantanu', 'reg.No.': '2023BIT051'}\n"
          ]
        }
      ]
    },
    {
      "cell_type": "code",
      "source": [
        "rows = 5\n",
        "for i in range(0, rows) :\n",
        "  for j in range(0, i + 1):\n",
        "    print(\"*\" , end=\" \")\n",
        "  print(\"\\r\")"
      ],
      "metadata": {
        "colab": {
          "base_uri": "https://localhost:8080/"
        },
        "id": "yG_hpniEZWMF",
        "outputId": "050f5c26-68d4-4a9d-f8ae-902f350905a0"
      },
      "execution_count": null,
      "outputs": [
        {
          "output_type": "stream",
          "name": "stdout",
          "text": [
            "* \r\n",
            "* * \r\n",
            "* * * \r\n",
            "* * * * \r\n",
            "* * * * * \r\n"
          ]
        }
      ]
    }
  ]
}